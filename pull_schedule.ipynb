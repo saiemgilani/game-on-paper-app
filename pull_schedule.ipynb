{
 "cells": [
  {
   "cell_type": "code",
   "execution_count": null,
   "metadata": {},
   "outputs": [],
   "source": [
    "import json\n",
    "import urllib\n",
    "import pandas as pd\n",
    "from datetime import datetime\n",
    "\n",
    "def get_schedule(year):\n",
    "    url = \"http://site.api.espn.com/apis/site/v2/sports/football/college-football/scoreboard?dates={}\".format(year)\n",
    "    resp = urllib.request.urlopen(url)\n",
    "    txt = json.loads(resp.read())['leagues'][0]['calendar']\n",
    "#     print(len(txt))\n",
    "    reg = pd.DataFrame(txt[0]['entries'])\n",
    "    post = pd.DataFrame(txt[1]['entries'])\n",
    "<<<<<<< local\n",
    "#     offseason = pd.DataFrame(txt[2]['entries']) if (len(txt) > 2) else pd.DataFrame()\n",
    "=======\n",
    "#     offseason = pd.DataFrame(txt[2]['entries'])\n",
    ">>>>>>> remote\n",
    "    full_schedule = pd.concat([reg,post], ignore_index=True)\n",
    "    full_schedule['year']=year\n",
    "    full_schedule['daysForward'] = (pd.to_datetime(full_schedule['endDate'])-pd.to_datetime(full_schedule['startDate'])).dt.days+1\n",
    "    date = pd.to_datetime(pd.to_datetime(full_schedule['startDate']).dt.date,format='%Y-%m-%d')\n",
    "    full_schedule['str_startDate']=date.apply(lambda x: x.strftime('%Y%m%d'))\n",
    "    full_schedule['url']=\"http://site.api.espn.com/apis/site/v2/sports/football/college-football/scoreboard?dates=\"\n",
    "    full_schedule['url'] = full_schedule[['url','str_startDate']].apply(lambda x: \n",
    "                        ''.join(x),axis=1)\n",
    "    full_schedule['daysForward'] = full_schedule['daysForward'].apply(str)\n",
    "    full_schedule['url'] = full_schedule[['url','daysForward']].apply(lambda x: \n",
    "<<<<<<< local\n",
    "                        '&daysForward='.join(x),axis=1)\n",
    "    return (full_schedule)\n",
    "\n",
    "full_schedule = get_schedule(2018)\n",
    "pd.set_option('display.max_colwidth',None)\n",
    "full_schedule.to_json('2018_sched.json', orient='records')\n",
    "=======\n",
    "                        'daysForward='.join(x),axis=1)\n",
    "    full_schedule = full_schedule[['year','value','str_startDate','daysForward','url']+[col for col in full_schedule.columns \n",
    "                                                                        if col not in ['year','value','str_startDate','daysForward','url']]]\n",
    "    \n",
    "    return (full_schedule)\n",
    "\n",
    "pd.set_option('display.max_colwidth',None)\n",
    "schedule = {}\n",
    "for x in range(2002,2021):\n",
    "    full_schedule = get_schedule(x)\n",
    "    full_schedule.to_json(orient='records')\n",
    "    schedule[x]=full_schedule\n",
    "    \n",
    "data_dict = {\n",
    "    key: schedule[key].to_dict(orient='records')\n",
    "    for key in schedule.keys()\n",
    "}\n",
    "\n",
    "with open('schedules/schedule.json','w') as fp:\n",
    "    json.dump(\n",
    "    data_dict,\n",
    "    fp,\n",
    "    indent=4,\n",
    "    sort_keys=True)    \n",
    ">>>>>>> remote"
   ]
  },
  {
   "cell_type": "code",
   "execution_count": 16,
   "metadata": {},
   "outputs": [],
   "source": [
    "with open('schedules/schedule.json', 'r') as fp:\n",
    "    data_dict = json.load(fp)\n",
    "\n",
    "# convert dictionaries into dataframes\n",
    "data = {\n",
    "    key: pd.DataFrame(data_dict[key]) \n",
    "    for key in data_dict\n",
    "}"
   ]
  },
  {
   "cell_type": "code",
   "execution_count": 12,
   "metadata": {},
   "outputs": [],
   "source": [
    "<<<<<<< REMOTE CELL DELETED >>>>>>>\n",
    "for x in range(2002,2021):\n",
    "    full_schedule = get_schedule(x)\n",
    "    full_schedule.to_json(f\"./frontend/cfb/schedules/{str(x)}.json\",orient='records')"
   ]
  }
 ],
 "metadata": {
  "kernelspec": {
   "display_name": "Python 3",
   "language": "python",
   "name": "python3"
  },
  "language_info": {
   "codemirror_mode": {
    "name": "ipython",
    "version": 3
   },
   "file_extension": ".py",
   "mimetype": "text/x-python",
   "name": "python",
   "nbconvert_exporter": "python",
   "pygments_lexer": "ipython3",
   "version": "3.7.7"
  }
 },
 "nbformat": 4,
 "nbformat_minor": 4
}
